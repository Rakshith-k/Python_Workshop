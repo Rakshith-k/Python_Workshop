{
  "nbformat": 4,
  "nbformat_minor": 0,
  "metadata": {
    "colab": {
      "name": "pyWS3.ipynb",
      "provenance": [],
      "authorship_tag": "ABX9TyOTpX4sTP6NhVXEzgwxMyGP",
      "include_colab_link": true
    },
    "kernelspec": {
      "name": "python3",
      "display_name": "Python 3"
    }
  },
  "cells": [
    {
      "cell_type": "markdown",
      "metadata": {
        "id": "view-in-github",
        "colab_type": "text"
      },
      "source": [
        "<a href=\"https://colab.research.google.com/github/Rakshith-k/Python_Workshop/blob/main/pyWS3.ipynb\" target=\"_parent\"><img src=\"https://colab.research.google.com/assets/colab-badge.svg\" alt=\"Open In Colab\"/></a>"
      ]
    },
    {
      "cell_type": "code",
      "metadata": {
        "colab": {
          "base_uri": "https://localhost:8080/",
          "height": 0
        },
        "id": "tfCRpLpB_wXb",
        "outputId": "f2e05eab-56a9-466c-de31-dbd25b5d601b"
      },
      "source": [
        "x=[]\r\n",
        "for i in range(1,21):\r\n",
        "  x.append(i)\r\n",
        "print(x)"
      ],
      "execution_count": 7,
      "outputs": [
        {
          "output_type": "stream",
          "text": [
            "[1, 2, 3, 4, 5, 6, 7, 8, 9, 10, 11, 12, 13, 14, 15, 16, 17, 18, 19, 20]\n"
          ],
          "name": "stdout"
        }
      ]
    },
    {
      "cell_type": "code",
      "metadata": {
        "colab": {
          "base_uri": "https://localhost:8080/",
          "height": 0
        },
        "id": "VStwUgWhCa1y",
        "outputId": "5a49f42b-1226-4170-a86b-d71e4d5b10f1"
      },
      "source": [
        "list=[i for i in range(1,11)]\r\n",
        "print(list)"
      ],
      "execution_count": 8,
      "outputs": [
        {
          "output_type": "stream",
          "text": [
            "[1, 2, 3, 4, 5, 6, 7, 8, 9, 10]\n"
          ],
          "name": "stdout"
        }
      ]
    },
    {
      "cell_type": "code",
      "metadata": {
        "colab": {
          "base_uri": "https://localhost:8080/",
          "height": 0
        },
        "id": "fYnumMaODDTX",
        "outputId": "febe6515-9f7e-4eeb-e601-707e15005eb0"
      },
      "source": [
        "for i in range(0,10,2):\r\n",
        "  print(i)"
      ],
      "execution_count": 15,
      "outputs": [
        {
          "output_type": "stream",
          "text": [
            "0\n",
            "2\n",
            "4\n",
            "6\n",
            "8\n"
          ],
          "name": "stdout"
        }
      ]
    },
    {
      "cell_type": "code",
      "metadata": {
        "colab": {
          "base_uri": "https://localhost:8080/",
          "height": 0
        },
        "id": "F12P9rXKERsZ",
        "outputId": "5ca86dd5-dd48-4143-8406-7eecb51208c4"
      },
      "source": [
        "list=[i*i for i in range(1,21) if i%2!=0]\r\n",
        "print(list)"
      ],
      "execution_count": 18,
      "outputs": [
        {
          "output_type": "stream",
          "text": [
            "[1, 9, 25, 49, 81, 121, 169, 225, 289, 361]\n"
          ],
          "name": "stdout"
        }
      ]
    },
    {
      "cell_type": "code",
      "metadata": {
        "colab": {
          "base_uri": "https://localhost:8080/",
          "height": 0
        },
        "id": "7fWs9hUxFW33",
        "outputId": "1f826629-5861-4349-992e-2268b0c383ed"
      },
      "source": [
        "if 0:\r\n",
        " print(\"rakshith\")\r\n",
        "else:\r\n",
        "  print(\"jhj\")"
      ],
      "execution_count": 22,
      "outputs": [
        {
          "output_type": "stream",
          "text": [
            "jhj\n"
          ],
          "name": "stdout"
        }
      ]
    },
    {
      "cell_type": "code",
      "metadata": {
        "colab": {
          "base_uri": "https://localhost:8080/",
          "height": 0
        },
        "id": "U-cp3WpPFv43",
        "outputId": "d4ae2224-e39d-4341-e404-0e2d0ba08d7c"
      },
      "source": [
        "if -1:\r\n",
        " print(\"rakshith\")\r\n",
        "else:\r\n",
        "  print(\"jhj\")"
      ],
      "execution_count": 23,
      "outputs": [
        {
          "output_type": "stream",
          "text": [
            "rakshith\n"
          ],
          "name": "stdout"
        }
      ]
    },
    {
      "cell_type": "code",
      "metadata": {
        "colab": {
          "base_uri": "https://localhost:8080/",
          "height": 0
        },
        "id": "PSciipHKGY6O",
        "outputId": "7912c289-a2e3-4724-d3f9-29bffdd3981b"
      },
      "source": [
        "list=[1,2,2,4,5]\r\n",
        "print(all(list))"
      ],
      "execution_count": 25,
      "outputs": [
        {
          "output_type": "stream",
          "text": [
            "True\n"
          ],
          "name": "stdout"
        }
      ]
    },
    {
      "cell_type": "code",
      "metadata": {
        "colab": {
          "base_uri": "https://localhost:8080/",
          "height": 0
        },
        "id": "Xs-ekAk_Gqu-",
        "outputId": "8daed76b-f05c-45ba-eb09-a2a544930540"
      },
      "source": [
        "list=[0,4,6,7,8]\r\n",
        "print(all(list))"
      ],
      "execution_count": 26,
      "outputs": [
        {
          "output_type": "stream",
          "text": [
            "False\n"
          ],
          "name": "stdout"
        }
      ]
    },
    {
      "cell_type": "code",
      "metadata": {
        "colab": {
          "base_uri": "https://localhost:8080/",
          "height": 0
        },
        "id": "5lgPKmWlHT7v",
        "outputId": "5733a2a7-d10f-48c2-9c4d-8a1f61c57735"
      },
      "source": [
        "list=[]\r\n",
        "for i in range(2,21):\r\n",
        "  isPrime=True\r\n",
        "  for j in range(2,i):\r\n",
        "    if i%j==0:\r\n",
        "      isPrime=False\r\n",
        "  if isPrime:\r\n",
        "      list.append(i)\r\n",
        "print(list)\r\n",
        "\r\n"
      ],
      "execution_count": 38,
      "outputs": [
        {
          "output_type": "stream",
          "text": [
            "[2, 3, 5, 7, 11, 13, 17, 19]\n"
          ],
          "name": "stdout"
        }
      ]
    },
    {
      "cell_type": "code",
      "metadata": {
        "colab": {
          "base_uri": "https://localhost:8080/",
          "height": 0
        },
        "id": "6DEMqDr8LPOw",
        "outputId": "4deb9307-6d71-4ef4-bb93-cf9705da1544"
      },
      "source": [
        "primeList=[i for i in range(2,21)if all(i%j!=0 for j in range(2,i))]\r\n",
        "print(primeList)"
      ],
      "execution_count": 39,
      "outputs": [
        {
          "output_type": "stream",
          "text": [
            "[2, 3, 5, 7, 11, 13, 17, 19]\n"
          ],
          "name": "stdout"
        }
      ]
    },
    {
      "cell_type": "code",
      "metadata": {
        "colab": {
          "base_uri": "https://localhost:8080/",
          "height": 0
        },
        "id": "DRrof5Y5Maz5",
        "outputId": "c991109b-6a81-4073-890d-e4dd480d76e8"
      },
      "source": [
        "print(all([7%j!=0 for j in range(2,7)]))"
      ],
      "execution_count": 48,
      "outputs": [
        {
          "output_type": "stream",
          "text": [
            "True\n"
          ],
          "name": "stdout"
        }
      ]
    },
    {
      "cell_type": "markdown",
      "metadata": {
        "id": "RgvII3IBOv8F"
      },
      "source": [
        "# Assignment1"
      ]
    },
    {
      "cell_type": "code",
      "metadata": {
        "colab": {
          "base_uri": "https://localhost:8080/",
          "height": 0
        },
        "id": "w4Nz2m81OcXn",
        "outputId": "c690980f-2730-4f05-ae8d-d1bda806c49f"
      },
      "source": [
        "sqr=[i*i for i in range(1,26)]\r\n",
        "print(sqr)"
      ],
      "execution_count": 50,
      "outputs": [
        {
          "output_type": "stream",
          "text": [
            "[1, 4, 9, 16, 25, 36, 49, 64, 81, 100, 121, 144, 169, 196, 225, 256, 289, 324, 361, 400, 441, 484, 529, 576, 625]\n"
          ],
          "name": "stdout"
        }
      ]
    },
    {
      "cell_type": "code",
      "metadata": {
        "colab": {
          "base_uri": "https://localhost:8080/",
          "height": 0
        },
        "id": "YUbr6Cs4PkPf",
        "outputId": "634cf4bd-3938-4e77-daca-b9197a687fcf"
      },
      "source": [
        "sqr=[i*i for i in range(1,26)if i*i<25]\r\n",
        "print(sqr)"
      ],
      "execution_count": 57,
      "outputs": [
        {
          "output_type": "stream",
          "text": [
            "[1, 4, 9, 16]\n"
          ],
          "name": "stdout"
        }
      ]
    },
    {
      "cell_type": "markdown",
      "metadata": {
        "id": "asru4vilVmMw"
      },
      "source": [
        "# FUNCTIONS"
      ]
    },
    {
      "cell_type": "code",
      "metadata": {
        "colab": {
          "base_uri": "https://localhost:8080/",
          "height": 0
        },
        "id": "rEYYqcVxVlVq",
        "outputId": "22b015aa-9fec-4e88-a6aa-5fb5fdb74481"
      },
      "source": [
        "def my_function(a,b,c):\r\n",
        "  print(a,b,c)\r\n",
        "my_function(\"jack\",\"jill\",\"fyh\")"
      ],
      "execution_count": 65,
      "outputs": [
        {
          "output_type": "stream",
          "text": [
            "jack jill fyh\n"
          ],
          "name": "stdout"
        }
      ]
    },
    {
      "cell_type": "code",
      "metadata": {
        "colab": {
          "base_uri": "https://localhost:8080/",
          "height": 0
        },
        "id": "o0fRm7ukaK4I",
        "outputId": "ea7ebb0a-1685-43b1-c090-5acfd24b1626"
      },
      "source": [
        "def my_function(a,b,c=78):\r\n",
        "  print(a,b,c)\r\n",
        "my_function(\"jack\",\"jill\")"
      ],
      "execution_count": 70,
      "outputs": [
        {
          "output_type": "stream",
          "text": [
            "jack jill 78\n"
          ],
          "name": "stdout"
        }
      ]
    },
    {
      "cell_type": "code",
      "metadata": {
        "colab": {
          "base_uri": "https://localhost:8080/",
          "height": 0
        },
        "id": "EOGmhUTdctgg",
        "outputId": "4fb8e814-0a34-4c2c-fda1-c155d8aa944b"
      },
      "source": [
        "lst=[\"Rakshith\",\"Shreyas\",\"Pawan\",\"Shashank\"] #list\r\n",
        "print(lst)"
      ],
      "execution_count": 72,
      "outputs": [
        {
          "output_type": "stream",
          "text": [
            "['Rakshith', 'Shreyas', 'Pawan', 'Shashank']\n"
          ],
          "name": "stdout"
        }
      ]
    },
    {
      "cell_type": "code",
      "metadata": {
        "colab": {
          "base_uri": "https://localhost:8080/",
          "height": 0
        },
        "id": "CVFtwhg9dFXH",
        "outputId": "5b0f8d59-9bb7-4494-d8db-1c104b890630"
      },
      "source": [
        "physics=int(input())\r\n",
        "chemistry=int(input())\r\n",
        "print(\"Rakshith \"+str(physics+chemistry))"
      ],
      "execution_count": 75,
      "outputs": [
        {
          "output_type": "stream",
          "text": [
            "45\n",
            "23\n",
            "Rakshith 68\n"
          ],
          "name": "stdout"
        }
      ]
    },
    {
      "cell_type": "code",
      "metadata": {
        "colab": {
          "base_uri": "https://localhost:8080/"
        },
        "id": "_rsEEO5pePpJ",
        "outputId": "b866457c-285c-4b45-e1a8-005f63c198a0"
      },
      "source": [
        "physics=int(input())\r\n",
        "chemistry=int(input())\r\n",
        "print(\"Pawan \"+str(physics+chemistry))"
      ],
      "execution_count": 76,
      "outputs": [
        {
          "output_type": "stream",
          "text": [
            "45\n",
            "98\n",
            "Pawan 143\n"
          ],
          "name": "stdout"
        }
      ]
    },
    {
      "cell_type": "code",
      "metadata": {
        "colab": {
          "base_uri": "https://localhost:8080/"
        },
        "id": "lh0Fs36dedxP",
        "outputId": "76d39d33-45b1-494c-9c4d-c982eb74aa14"
      },
      "source": [
        "physics=int(input())\r\n",
        "chemistry=int(input())\r\n",
        "print(\"Shreyas \"+str(physics+chemistry))"
      ],
      "execution_count": 77,
      "outputs": [
        {
          "output_type": "stream",
          "text": [
            "45\n",
            "87\n",
            "Shreyas 132\n"
          ],
          "name": "stdout"
        }
      ]
    },
    {
      "cell_type": "code",
      "metadata": {
        "colab": {
          "base_uri": "https://localhost:8080/"
        },
        "id": "nXl019YXelpH",
        "outputId": "26036e3f-7fe4-4920-e515-f1ad35e7588e"
      },
      "source": [
        "physics=int(input())\r\n",
        "chemistry=int(input())\r\n",
        "print(\"Shashank \"+str(physics+chemistry))"
      ],
      "execution_count": 78,
      "outputs": [
        {
          "output_type": "stream",
          "text": [
            "87\n",
            "36\n",
            "Shashank 123\n"
          ],
          "name": "stdout"
        }
      ]
    },
    {
      "cell_type": "code",
      "metadata": {
        "colab": {
          "base_uri": "https://localhost:8080/"
        },
        "id": "0xS7CYphe4Fn",
        "outputId": "6ed418f5-01e3-4525-b954-22ed44393bd2"
      },
      "source": [
        "def marks(name):\r\n",
        "  physics=int(input(\"enter\" + name + \" physics marks\"))\r\n",
        "  chemistry=int(input(\"enter\" + name + \" chemistry marks\"))\r\n",
        "  return physics+chemistry \r\n",
        "st=[\"jack\",\"jill\",\"pawan\",\"rakshith\"]\r\n",
        "for i in st:\r\n",
        "  print(marks(i))"
      ],
      "execution_count": 83,
      "outputs": [
        {
          "output_type": "stream",
          "text": [
            "enterjack physics marks45\n",
            "enterjack chemistry marks67\n",
            "112\n",
            "enterjill physics marks45\n",
            "enterjill chemistry marks67\n",
            "112\n",
            "enterpawan physics marks46\n",
            "enterpawan chemistry marks26\n",
            "72\n",
            "enterrakshith physics marks90\n",
            "enterrakshith chemistry marks45\n",
            "135\n"
          ],
          "name": "stdout"
        }
      ]
    }
  ]
}