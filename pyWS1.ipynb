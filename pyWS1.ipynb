{
  "nbformat": 4,
  "nbformat_minor": 0,
  "metadata": {
    "colab": {
      "name": "pyWS1.ipynb",
      "provenance": [],
      "collapsed_sections": [],
      "authorship_tag": "ABX9TyN1ZVxi4BUZv+moCEjUIRJ1",
      "include_colab_link": true
    },
    "kernelspec": {
      "name": "python3",
      "display_name": "Python 3"
    }
  },
  "cells": [
    {
      "cell_type": "markdown",
      "metadata": {
        "id": "view-in-github",
        "colab_type": "text"
      },
      "source": [
        "<a href=\"https://colab.research.google.com/github/Rakshith-k/Python_Workshop/blob/main/pyWS1.ipynb\" target=\"_parent\"><img src=\"https://colab.research.google.com/assets/colab-badge.svg\" alt=\"Open In Colab\"/></a>"
      ]
    },
    {
      "cell_type": "code",
      "metadata": {
        "id": "6c_CrPgt4Lu5"
      },
      "source": [
        ""
      ],
      "execution_count": null,
      "outputs": []
    },
    {
      "cell_type": "code",
      "metadata": {
        "colab": {
          "base_uri": "https://localhost:8080/"
        },
        "id": "wZFLWsTQ6SI6",
        "outputId": "11cc1dc9-4421-4d39-a0c3-81c2879f680f"
      },
      "source": [
        "x=input(\"Enter the value\")\r\n",
        "y=\"John\"\r\n",
        "print(x)\r\n",
        "print(y)"
      ],
      "execution_count": 9,
      "outputs": [
        {
          "output_type": "stream",
          "text": [
            "Enter the value8\n",
            "8\n",
            "John\n"
          ],
          "name": "stdout"
        }
      ]
    },
    {
      "cell_type": "code",
      "metadata": {
        "colab": {
          "base_uri": "https://localhost:8080/"
        },
        "id": "UW_rTKYo9ZU5",
        "outputId": "7a2106e0-56f4-4186-97b2-49790c402e2d"
      },
      "source": [
        "x,y,z=5,\"Banana\",5.876\r\n",
        "print(int(x))\r\n",
        "print(str(y))\r\n",
        "print(float(z))"
      ],
      "execution_count": 11,
      "outputs": [
        {
          "output_type": "stream",
          "text": [
            "5\n",
            "Banana\n",
            "5.876\n"
          ],
          "name": "stdout"
        }
      ]
    },
    {
      "cell_type": "code",
      "metadata": {
        "colab": {
          "base_uri": "https://localhost:8080/"
        },
        "id": "8b9lL5Hg-5fR",
        "outputId": "22dab30f-44a5-4b0b-a2ea-fb0e66e9898b"
      },
      "source": [
        "x=3\r\n",
        "def funs():\r\n",
        "  y=9\r\n",
        "  z=x+y\r\n",
        "  print(z)\r\n",
        "funs()\r\n"
      ],
      "execution_count": 23,
      "outputs": [
        {
          "output_type": "stream",
          "text": [
            "12\n"
          ],
          "name": "stdout"
        }
      ]
    },
    {
      "cell_type": "markdown",
      "metadata": {
        "id": "XqzJtTdgB_A4"
      },
      "source": [
        "# Exercise 1"
      ]
    },
    {
      "cell_type": "code",
      "metadata": {
        "colab": {
          "base_uri": "https://localhost:8080/"
        },
        "id": "iQ55D-EgBRqi",
        "outputId": "d27e640e-af43-4edb-8fe6-d0241c79409f"
      },
      "source": [
        "carname=\"volvo\"\r\n",
        "print(carname)"
      ],
      "execution_count": 24,
      "outputs": [
        {
          "output_type": "stream",
          "text": [
            "volvo\n"
          ],
          "name": "stdout"
        }
      ]
    },
    {
      "cell_type": "markdown",
      "metadata": {
        "id": "iaECsoM_CHYV"
      },
      "source": [
        "# Exercise 2"
      ]
    },
    {
      "cell_type": "code",
      "metadata": {
        "colab": {
          "base_uri": "https://localhost:8080/"
        },
        "id": "EfQr850GCFnJ",
        "outputId": "66a69322-4b55-4655-a0e7-a8be560756a8"
      },
      "source": [
        "x=50\r\n",
        "print(x)\r\n",
        "print(type(x))"
      ],
      "execution_count": 25,
      "outputs": [
        {
          "output_type": "stream",
          "text": [
            "50\n",
            "<class 'int'>\n"
          ],
          "name": "stdout"
        }
      ]
    },
    {
      "cell_type": "markdown",
      "metadata": {
        "id": "kSZh69uwDRip"
      },
      "source": [
        "# Exercise 3"
      ]
    },
    {
      "cell_type": "code",
      "metadata": {
        "colab": {
          "base_uri": "https://localhost:8080/"
        },
        "id": "2hvqHguDCpvp",
        "outputId": "558298f1-4d01-4561-9bfb-02f1f66caa0e"
      },
      "source": [
        "x,y=5,10\r\n",
        "print(x+y)"
      ],
      "execution_count": 28,
      "outputs": [
        {
          "output_type": "stream",
          "text": [
            "15\n"
          ],
          "name": "stdout"
        }
      ]
    },
    {
      "cell_type": "markdown",
      "metadata": {
        "id": "7Uxsp4bWD_iy"
      },
      "source": [
        "# Exercise 4\r\n"
      ]
    },
    {
      "cell_type": "code",
      "metadata": {
        "colab": {
          "base_uri": "https://localhost:8080/"
        },
        "id": "--o3JjrvDVzy",
        "outputId": "17ef5e46-0120-4104-9df7-4a561304b47a"
      },
      "source": [
        "\r\n",
        "x,y,z=11,17,x+y\r\n",
        "print(z)\r\n"
      ],
      "execution_count": 34,
      "outputs": [
        {
          "output_type": "stream",
          "text": [
            "28\n"
          ],
          "name": "stdout"
        }
      ]
    },
    {
      "cell_type": "code",
      "metadata": {
        "colab": {
          "base_uri": "https://localhost:8080/"
        },
        "id": "qphMhtXbPUHt",
        "outputId": "e189ec96-2c8e-4781-d7d4-f469e94e9928"
      },
      "source": [
        "x=5\r\n",
        "print(type(x))"
      ],
      "execution_count": 35,
      "outputs": [
        {
          "output_type": "stream",
          "text": [
            "<class 'int'>\n"
          ],
          "name": "stdout"
        }
      ]
    },
    {
      "cell_type": "code",
      "metadata": {
        "id": "fmAJzv3-Pq0F"
      },
      "source": [
        ""
      ],
      "execution_count": null,
      "outputs": []
    },
    {
      "cell_type": "markdown",
      "metadata": {
        "id": "-n31Mh4r4M2x"
      },
      "source": [
        "Hello World Program \r\n"
      ]
    },
    {
      "cell_type": "code",
      "metadata": {
        "id": "uRrSh-_TPwL0"
      },
      "source": [
        "x1=\"Hello World\"\r\n",
        "x2=10\r\n",
        "x3=10.1\r\n",
        "x4=[\"apple\",\"banana\",\"cherry\"]\r\n",
        "x5=(\"apple\",\"banana\",\"cherry\")\r\n",
        "x6=range(6)\r\n",
        "x7={\"name\":\"Johnwick\",\"age\":36}\r\n",
        "x8={\"apple\",\"banana\",\"cherry\"}\r\n",
        "x9=True"
      ],
      "execution_count": 36,
      "outputs": []
    },
    {
      "cell_type": "code",
      "metadata": {
        "colab": {
          "base_uri": "https://localhost:8080/"
        },
        "id": "8I1V44ozRPBv",
        "outputId": "2420b8e7-e360-4343-ace4-a22748eb7a85"
      },
      "source": [
        "print(type(x1))\r\n",
        "print(type(x2))\r\n",
        "print(type(x3))\r\n",
        "print(type(x4))\r\n",
        "print(type(x5))\r\n",
        "print(type(x6))\r\n",
        "print(type(x7))\r\n",
        "print(type(x8))\r\n",
        "print(type(x9))"
      ],
      "execution_count": 38,
      "outputs": [
        {
          "output_type": "stream",
          "text": [
            "<class 'str'>\n",
            "<class 'int'>\n",
            "<class 'float'>\n",
            "<class 'list'>\n",
            "<class 'tuple'>\n",
            "<class 'range'>\n",
            "<class 'dict'>\n",
            "<class 'set'>\n",
            "<class 'bool'>\n"
          ],
          "name": "stdout"
        }
      ]
    },
    {
      "cell_type": "code",
      "metadata": {
        "colab": {
          "base_uri": "https://localhost:8080/"
        },
        "id": "NZ55JoGNTQVn",
        "outputId": "d48a7d95-4e3c-420c-8919-1d9015b4542f"
      },
      "source": [
        "x=(3+5j)\r\n",
        "print(type(x))"
      ],
      "execution_count": 44,
      "outputs": [
        {
          "output_type": "stream",
          "text": [
            "<class 'complex'>\n"
          ],
          "name": "stdout"
        }
      ]
    },
    {
      "cell_type": "code",
      "metadata": {
        "colab": {
          "base_uri": "https://localhost:8080/"
        },
        "id": "AwV76GGwVaUX",
        "outputId": "1bd6627f-d5dd-444e-8ea7-c5967057bfa5"
      },
      "source": [
        "x=range(7)\r\n",
        "for n in x:\r\n",
        " print(n)"
      ],
      "execution_count": 47,
      "outputs": [
        {
          "output_type": "stream",
          "text": [
            "0\n",
            "1\n",
            "2\n",
            "3\n",
            "4\n",
            "5\n",
            "6\n"
          ],
          "name": "stdout"
        }
      ]
    },
    {
      "cell_type": "code",
      "metadata": {
        "colab": {
          "base_uri": "https://localhost:8080/"
        },
        "id": "EROo5910WAn1",
        "outputId": "6eaa01e3-0579-4215-a0ad-3415c3326d0e"
      },
      "source": [
        "x=range(1,5,2)\r\n",
        "print(set(x))"
      ],
      "execution_count": 51,
      "outputs": [
        {
          "output_type": "stream",
          "text": [
            "{1, 3}\n"
          ],
          "name": "stdout"
        }
      ]
    },
    {
      "cell_type": "code",
      "metadata": {
        "colab": {
          "base_uri": "https://localhost:8080/"
        },
        "id": "TFdIhJwXWspV",
        "outputId": "61535cea-1ff2-484f-9989-f1f1f8b97c39"
      },
      "source": [
        "x={1,2,3,6,3,4,3,3,3,2}\r\n",
        "print(list(x))"
      ],
      "execution_count": 55,
      "outputs": [
        {
          "output_type": "stream",
          "text": [
            "[1, 2, 3, 4, 6]\n"
          ],
          "name": "stdout"
        }
      ]
    },
    {
      "cell_type": "code",
      "metadata": {
        "colab": {
          "base_uri": "https://localhost:8080/"
        },
        "id": "DtKH1Ih3X22V",
        "outputId": "99068dcc-a0d9-42d0-c3d7-8e74e814b432"
      },
      "source": [
        "x=range(6)\r\n",
        "print(bool(0))"
      ],
      "execution_count": 59,
      "outputs": [
        {
          "output_type": "stream",
          "text": [
            "False\n"
          ],
          "name": "stdout"
        }
      ]
    },
    {
      "cell_type": "code",
      "metadata": {
        "colab": {
          "base_uri": "https://localhost:8080/"
        },
        "id": "vIPyiTebYhHe",
        "outputId": "1bf4478e-2ec9-4441-97e7-a0b430bcc6a9"
      },
      "source": [
        "x,y,z=1,1.2,6j\r\n",
        "a,b,c=float(x),int(y),complex(x)\r\n",
        "print(a)\r\n",
        "print(b)\r\n",
        "print(c)\r\n"
      ],
      "execution_count": 65,
      "outputs": [
        {
          "output_type": "stream",
          "text": [
            "1.0\n",
            "1\n",
            "(1+0j)\n"
          ],
          "name": "stdout"
        }
      ]
    },
    {
      "cell_type": "markdown",
      "metadata": {
        "id": "gJZLxO0Oc4SW"
      },
      "source": [
        "# Exercise 5"
      ]
    },
    {
      "cell_type": "code",
      "metadata": {
        "colab": {
          "base_uri": "https://localhost:8080/"
        },
        "id": "CzgJlkoIaw8_",
        "outputId": "a5228147-8057-4856-9224-296e57ffa965"
      },
      "source": [
        "x,y=str(2),str(3)\r\n",
        "print(\"x+y=\"+x+y)"
      ],
      "execution_count": 76,
      "outputs": [
        {
          "output_type": "stream",
          "text": [
            "x+y=23\n"
          ],
          "name": "stdout"
        }
      ]
    },
    {
      "cell_type": "code",
      "metadata": {
        "colab": {
          "base_uri": "https://localhost:8080/"
        },
        "id": "76d00j5qdrBN",
        "outputId": "9f7eef55-9fc9-451e-9a47-c4bd4b04d9cd"
      },
      "source": [
        "name='Rakshith'\r\n",
        "print(name)\r\n",
        "print(type(name))"
      ],
      "execution_count": 78,
      "outputs": [
        {
          "output_type": "stream",
          "text": [
            "Rakshith\n",
            "<class 'str'>\n"
          ],
          "name": "stdout"
        }
      ]
    },
    {
      "cell_type": "code",
      "metadata": {
        "colab": {
          "base_uri": "https://localhost:8080/"
        },
        "id": "esZXyXUEeNz4",
        "outputId": "599e3e4b-81de-4376-afcf-1794038f14bd"
      },
      "source": [
        "name=\"hello world\"\r\n",
        "print(name[6])\r\n",
        "print(len(name))\r\n",
        "print(\"world\" in name)\r\n",
        "print(name[-6:-1])"
      ],
      "execution_count": 93,
      "outputs": [
        {
          "output_type": "stream",
          "text": [
            "w\n",
            "11\n",
            "True\n",
            " worl\n"
          ],
          "name": "stdout"
        }
      ]
    },
    {
      "cell_type": "code",
      "metadata": {
        "colab": {
          "base_uri": "https://localhost:8080/"
        },
        "id": "7lnGSHo0hzZ6",
        "outputId": "e0ae7b68-5d2e-41fb-96a8-fb11f068da2e"
      },
      "source": [
        "a,b=\"Hello \",\"World\"\r\n",
        "print(a+b)"
      ],
      "execution_count": 98,
      "outputs": [
        {
          "output_type": "stream",
          "text": [
            "Hello World\n"
          ],
          "name": "stdout"
        }
      ]
    },
    {
      "cell_type": "code",
      "metadata": {
        "colab": {
          "base_uri": "https://localhost:8080/"
        },
        "id": "r-RKGTg3i7pa",
        "outputId": "cd757d74-9b73-4ee8-da75-5bcb7680bcb5"
      },
      "source": [
        "age=45\r\n",
        "txt=\"My name is John,I am{}\"\r\n",
        "print(txt.format(age))"
      ],
      "execution_count": 101,
      "outputs": [
        {
          "output_type": "stream",
          "text": [
            "My name is John,I am45\n"
          ],
          "name": "stdout"
        }
      ]
    },
    {
      "cell_type": "code",
      "metadata": {
        "colab": {
          "base_uri": "https://localhost:8080/"
        },
        "id": "eCLUT3JlkJUX",
        "outputId": "f4ee6659-3efb-46f0-ee7a-0389a9126052"
      },
      "source": [
        "txt=\"rakshith\"\r\n",
        "print(txt.upper())"
      ],
      "execution_count": 119,
      "outputs": [
        {
          "output_type": "stream",
          "text": [
            "RAKSHITH\n"
          ],
          "name": "stdout"
        }
      ]
    },
    {
      "cell_type": "code",
      "metadata": {
        "colab": {
          "base_uri": "https://localhost:8080/"
        },
        "id": "p_v6V6WO19Hh",
        "outputId": "fc936125-4560-417a-baaa-4a25b0b29275"
      },
      "source": [
        "inp=input(\"Enter something\")\r\n",
        "print(len(name))\r\n",
        "print(name[0:4])\r\n",
        "print(name.upper())\r\n",
        "print(inp +\"college\")\r\n",
        "inp=inp+\" {}\"\r\n",
        "print(inp.format(\"college\"))\r\n",
        "print(inp.isdigit())"
      ],
      "execution_count": 136,
      "outputs": [
        {
          "output_type": "stream",
          "text": [
            "Enter somethingalvas\n",
            "5\n",
            "alva\n",
            "ALVAS\n",
            "alvascollege\n",
            "alvas college\n",
            "False\n"
          ],
          "name": "stdout"
        }
      ]
    },
    {
      "cell_type": "code",
      "metadata": {
        "colab": {
          "base_uri": "https://localhost:8080/"
        },
        "id": "r_GSClV967Q0",
        "outputId": "0144afd8-cd7e-4992-cda1-29b7342375b1"
      },
      "source": [
        "print(10+6)\r\n",
        "print(35-13)\r\n",
        "print(4*9)\r\n",
        "print(78/8)\r\n",
        "print(23%45)"
      ],
      "execution_count": 138,
      "outputs": [
        {
          "output_type": "stream",
          "text": [
            "16\n",
            "22\n",
            "36\n",
            "9.75\n",
            "23\n"
          ],
          "name": "stdout"
        }
      ]
    },
    {
      "cell_type": "code",
      "metadata": {
        "colab": {
          "base_uri": "https://localhost:8080/"
        },
        "id": "7x9rJasM7pUJ",
        "outputId": "49501d47-a60e-4254-a6b2-656d18c07655"
      },
      "source": [
        "x=7\r\n",
        "y=3\r\n",
        "print(x!=y)"
      ],
      "execution_count": 144,
      "outputs": [
        {
          "output_type": "stream",
          "text": [
            "True\n"
          ],
          "name": "stdout"
        }
      ]
    },
    {
      "cell_type": "code",
      "metadata": {
        "colab": {
          "base_uri": "https://localhost:8080/"
        },
        "id": "f7NEuhFm9Zbx",
        "outputId": "d5e3c15d-8fc8-4918-d5ac-afe85f0d965a"
      },
      "source": [
        "a=int(input(\"Enter the value\"))\r\n",
        "b=int(input(\"Enter the value\"))\r\n",
        "print(a+b)\r\n",
        "print(a-b)\r\n",
        "print(a*b)\r\n",
        "print(a/b)\r\n",
        "print(a%b)"
      ],
      "execution_count": 156,
      "outputs": [
        {
          "output_type": "stream",
          "text": [
            "Enter the value6\n",
            "Enter the value8\n",
            "14\n",
            "-2\n",
            "48\n",
            "0.75\n",
            "6\n"
          ],
          "name": "stdout"
        }
      ]
    },
    {
      "cell_type": "code",
      "metadata": {
        "colab": {
          "base_uri": "https://localhost:8080/"
        },
        "id": "EjIuI-ZlEp-O",
        "outputId": "878de55d-a7d9-4517-dbd4-f6e80a1c51ea"
      },
      "source": [
        "l=tuple((\"ece\",\"cse\",\"ise\"))\r\n",
        "print(l)"
      ],
      "execution_count": 160,
      "outputs": [
        {
          "output_type": "stream",
          "text": [
            "('ece', 'cse', 'ise')\n"
          ],
          "name": "stdout"
        }
      ]
    },
    {
      "cell_type": "code",
      "metadata": {
        "colab": {
          "base_uri": "https://localhost:8080/"
        },
        "id": "h_schuu_GKJ7",
        "outputId": "0844c1db-ff5f-4260-c155-696161ae9da1"
      },
      "source": [
        "l=['cse','ece','ise']\r\n",
        "l[-1]='ML'\r\n",
        "print(l)"
      ],
      "execution_count": 165,
      "outputs": [
        {
          "output_type": "stream",
          "text": [
            "['cse', 'ece', 'ML']\n"
          ],
          "name": "stdout"
        }
      ]
    },
    {
      "cell_type": "code",
      "metadata": {
        "colab": {
          "base_uri": "https://localhost:8080/"
        },
        "id": "ZZoiGDLdHyN2",
        "outputId": "5baeefe2-ed71-45fb-a0a8-85cc2118dec0"
      },
      "source": [
        "thislist =[\"apple\",\"banana\",\"cherry\"]\r\n",
        "print(len(thislist))\r\n",
        "thislist.append(\"Orange\")\r\n",
        "print(thislist)\r\n",
        "print(len(thislist))"
      ],
      "execution_count": 166,
      "outputs": [
        {
          "output_type": "stream",
          "text": [
            "3\n",
            "['apple', 'banana', 'cherry', 'Orange']\n",
            "4\n"
          ],
          "name": "stdout"
        }
      ]
    },
    {
      "cell_type": "code",
      "metadata": {
        "colab": {
          "base_uri": "https://localhost:8080/"
        },
        "id": "nbxY4vEGJDli",
        "outputId": "c5349cc4-3a1f-43d7-eff5-b4c0fef743d9"
      },
      "source": [
        "thislist=[\"apple\",\"banana\",\"cherry\"]\r\n",
        "tropical=[\"mango\",\"papaya\",]\r\n",
        "thislist.remove(\"banana\")\r\n",
        "print(thislist)"
      ],
      "execution_count": 169,
      "outputs": [
        {
          "output_type": "stream",
          "text": [
            "['apple', 'cherry']\n"
          ],
          "name": "stdout"
        }
      ]
    },
    {
      "cell_type": "code",
      "metadata": {
        "colab": {
          "base_uri": "https://localhost:8080/"
        },
        "id": "CZWeLKjv_fRM",
        "outputId": "f34e26bf-1ff0-4fb0-a1a3-78d6c81a8d5c"
      },
      "source": [
        "thislist=[\"apple\",\"banana\",\"cherry\"]\r\n",
        "del thislist[0]\r\n",
        "print(thislist)\r\n",
        "print(len(thislist))"
      ],
      "execution_count": 172,
      "outputs": [
        {
          "output_type": "stream",
          "text": [
            "['banana', 'cherry']\n",
            "2\n"
          ],
          "name": "stdout"
        }
      ]
    },
    {
      "cell_type": "code",
      "metadata": {
        "colab": {
          "base_uri": "https://localhost:8080/"
        },
        "id": "kSu6CWecKxX_",
        "outputId": "2b4e427d-a32f-4911-8583-ebbfd82eb55f"
      },
      "source": [
        "thislist=[100,50,56,74,15]\r\n",
        "thislist=thislist[::-1]\r\n",
        "print(thislist)"
      ],
      "execution_count": 178,
      "outputs": [
        {
          "output_type": "stream",
          "text": [
            "[15, 74, 56, 50, 100]\n"
          ],
          "name": "stdout"
        }
      ]
    },
    {
      "cell_type": "code",
      "metadata": {
        "colab": {
          "base_uri": "https://localhost:8080/"
        },
        "id": "mO_LM6_VMjgd",
        "outputId": "04133df2-11c7-476f-ffdc-f3df2575fcb2"
      },
      "source": [
        "nameList=['Harsh','prathik','Bob','Dhruv']\r\n",
        "print (nameList[3])"
      ],
      "execution_count": 182,
      "outputs": [
        {
          "output_type": "stream",
          "text": [
            "Dhruv\n"
          ],
          "name": "stdout"
        }
      ]
    },
    {
      "cell_type": "code",
      "metadata": {
        "colab": {
          "base_uri": "https://localhost:8080/"
        },
        "id": "qqhVRLmANUy5",
        "outputId": "2443a9f6-ccb2-4a55-c200-d14d0b8db6e0"
      },
      "source": [
        "animal=['cat','dog','fish','goat']\r\n",
        "age=[1,2,2,6]\r\n",
        "print(animal+age)\r\n",
        "animal.extend(age)"
      ],
      "execution_count": 185,
      "outputs": [
        {
          "output_type": "stream",
          "text": [
            "['cat', 'dog', 'fish', 'goat', 1, 2, 2, 6]\n"
          ],
          "name": "stdout"
        }
      ]
    },
    {
      "cell_type": "code",
      "metadata": {
        "colab": {
          "base_uri": "https://localhost:8080/"
        },
        "id": "UkhNfwllONiP",
        "outputId": "ae2cb16d-2cb4-4392-9405-39b27c85386a"
      },
      "source": [
        "age=[1,2,3,6]\r\n",
        "age.append(9)\r\n",
        "print(age)\r\n",
        "age.pop(2)\r\n",
        "print(age)\r\n",
        "age.count(2)"
      ],
      "execution_count": 195,
      "outputs": [
        {
          "output_type": "stream",
          "text": [
            "[1, 2, 3, 6, 9]\n",
            "[1, 2, 6, 9]\n"
          ],
          "name": "stdout"
        },
        {
          "output_type": "execute_result",
          "data": {
            "text/plain": [
              "1"
            ]
          },
          "metadata": {
            "tags": []
          },
          "execution_count": 195
        }
      ]
    },
    {
      "cell_type": "code",
      "metadata": {
        "colab": {
          "base_uri": "https://localhost:8080/"
        },
        "id": "1UBwuDojRLnb",
        "outputId": "c86edad8-d008-4095-fe8b-b8a16e97402c"
      },
      "source": [
        "x=(\"apple\",\"banana\",\"cherry\")\r\n",
        "y=list(x)\r\n",
        "y[1]=\"kiwi\"\r\n",
        "x=tuple(y)\r\n",
        "print(type(x))"
      ],
      "execution_count": 200,
      "outputs": [
        {
          "output_type": "stream",
          "text": [
            "<class 'tuple'>\n"
          ],
          "name": "stdout"
        }
      ]
    },
    {
      "cell_type": "code",
      "metadata": {
        "colab": {
          "base_uri": "https://localhost:8080/",
          "height": 265
        },
        "id": "ThxvfB7MTc8_",
        "outputId": "330c3da5-cce6-47c5-8eb6-4392e8f62395"
      },
      "source": [
        "c=(\"apple\",\"banana\",\"kiwi\")\r\n",
        "c=list(x)\r\n",
        "print(c)\r\n",
        "c.append(\"banana\")\r\n",
        "print(c)\r\n",
        "x=touple(c)\r\n",
        "print(x)\r\n",
        "\r\n"
      ],
      "execution_count": 205,
      "outputs": [
        {
          "output_type": "stream",
          "text": [
            "['apple', 'kiwi', 'cherry']\n",
            "['apple', 'kiwi', 'cherry', 'banana']\n"
          ],
          "name": "stdout"
        },
        {
          "output_type": "error",
          "ename": "NameError",
          "evalue": "ignored",
          "traceback": [
            "\u001b[0;31m---------------------------------------------------------------------------\u001b[0m",
            "\u001b[0;31mNameError\u001b[0m                                 Traceback (most recent call last)",
            "\u001b[0;32m<ipython-input-205-af9f6a27d9b6>\u001b[0m in \u001b[0;36m<module>\u001b[0;34m()\u001b[0m\n\u001b[1;32m      4\u001b[0m \u001b[0mc\u001b[0m\u001b[0;34m.\u001b[0m\u001b[0mappend\u001b[0m\u001b[0;34m(\u001b[0m\u001b[0;34m\"banana\"\u001b[0m\u001b[0;34m)\u001b[0m\u001b[0;34m\u001b[0m\u001b[0;34m\u001b[0m\u001b[0m\n\u001b[1;32m      5\u001b[0m \u001b[0mprint\u001b[0m\u001b[0;34m(\u001b[0m\u001b[0mc\u001b[0m\u001b[0;34m)\u001b[0m\u001b[0;34m\u001b[0m\u001b[0;34m\u001b[0m\u001b[0m\n\u001b[0;32m----> 6\u001b[0;31m \u001b[0mx\u001b[0m\u001b[0;34m=\u001b[0m\u001b[0mtouple\u001b[0m\u001b[0;34m(\u001b[0m\u001b[0mc\u001b[0m\u001b[0;34m)\u001b[0m\u001b[0;34m\u001b[0m\u001b[0;34m\u001b[0m\u001b[0m\n\u001b[0m\u001b[1;32m      7\u001b[0m \u001b[0mprint\u001b[0m\u001b[0;34m(\u001b[0m\u001b[0mx\u001b[0m\u001b[0;34m)\u001b[0m\u001b[0;34m\u001b[0m\u001b[0;34m\u001b[0m\u001b[0m\n\u001b[1;32m      8\u001b[0m \u001b[0;34m\u001b[0m\u001b[0m\n",
            "\u001b[0;31mNameError\u001b[0m: name 'touple' is not defined"
          ]
        }
      ]
    }
  ]
}