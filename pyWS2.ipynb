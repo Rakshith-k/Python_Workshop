{
  "nbformat": 4,
  "nbformat_minor": 0,
  "metadata": {
    "colab": {
      "name": "pyWS2.ipynb",
      "provenance": [],
      "authorship_tag": "ABX9TyN8xh8QnhnFUrSo4lGJ7z8F",
      "include_colab_link": true
    },
    "kernelspec": {
      "name": "python3",
      "display_name": "Python 3"
    }
  },
  "cells": [
    {
      "cell_type": "markdown",
      "metadata": {
        "id": "view-in-github",
        "colab_type": "text"
      },
      "source": [
        "<a href=\"https://colab.research.google.com/github/Rakshith-k/Python_Workshop/blob/main/pyWS2.ipynb\" target=\"_parent\"><img src=\"https://colab.research.google.com/assets/colab-badge.svg\" alt=\"Open In Colab\"/></a>"
      ]
    },
    {
      "cell_type": "code",
      "metadata": {
        "colab": {
          "base_uri": "https://localhost:8080/"
        },
        "id": "cd2Mgq_iZKMX",
        "outputId": "7896721f-d5a6-471f-881a-2154831118da"
      },
      "source": [
        "numbers = {1,2,3,4}\r\n",
        "print(numbers)"
      ],
      "execution_count": 3,
      "outputs": [
        {
          "output_type": "stream",
          "text": [
            "{1, 2, 3, 4}\n"
          ],
          "name": "stdout"
        }
      ]
    },
    {
      "cell_type": "code",
      "metadata": {
        "colab": {
          "base_uri": "https://localhost:8080/"
        },
        "id": "hw23ZBLL_CMT",
        "outputId": "2a44538f-9297-4d1a-c752-0747c6a91ac7"
      },
      "source": [
        "a=set(('ece','cse','ise'))\r\n",
        "a.add(\"mech\")\r\n",
        "print(a)\r\n",
        "print(len(a))"
      ],
      "execution_count": 7,
      "outputs": [
        {
          "output_type": "stream",
          "text": [
            "{'ece', 'ise', 'mech', 'cse'}\n",
            "4\n"
          ],
          "name": "stdout"
        }
      ]
    },
    {
      "cell_type": "code",
      "metadata": {
        "colab": {
          "base_uri": "https://localhost:8080/"
        },
        "id": "-usCY6t4AGpN",
        "outputId": "a3d247b6-5c8b-432f-b258-2d67d9979ac2"
      },
      "source": [
        "a=set(('ece','cse','ise','mech'))\r\n",
        "print(len(a))\r\n",
        "a.add(\"cse\")\r\n",
        "print(len(a))\r\n",
        "print(a)"
      ],
      "execution_count": 8,
      "outputs": [
        {
          "output_type": "stream",
          "text": [
            "4\n",
            "4\n",
            "{'ece', 'ise', 'mech', 'cse'}\n"
          ],
          "name": "stdout"
        }
      ]
    },
    {
      "cell_type": "code",
      "metadata": {
        "colab": {
          "base_uri": "https://localhost:8080/"
        },
        "id": "oJApDpOqAphA",
        "outputId": "6a993d87-44a9-48bc-d303-01053a536cae"
      },
      "source": [
        "a=set(('ece','cse','ise','mech'))\r\n",
        "print(a)\r\n",
        "a.remove(\"mech\")\r\n",
        "print(a)"
      ],
      "execution_count": 9,
      "outputs": [
        {
          "output_type": "stream",
          "text": [
            "{'ece', 'ise', 'mech', 'cse'}\n",
            "{'ece', 'ise', 'cse'}\n"
          ],
          "name": "stdout"
        }
      ]
    },
    {
      "cell_type": "code",
      "metadata": {
        "colab": {
          "base_uri": "https://localhost:8080/"
        },
        "id": "nhjN9QYmBA0o",
        "outputId": "da94012a-0df9-4b20-abcb-be73f9605794"
      },
      "source": [
        "a=set(('ece','cse','ise','mech'))\r\n",
        "print(a)\r\n",
        "a.discard('mech')\r\n",
        "print(a)"
      ],
      "execution_count": 10,
      "outputs": [
        {
          "output_type": "stream",
          "text": [
            "{'ece', 'ise', 'mech', 'cse'}\n",
            "{'ece', 'ise', 'cse'}\n"
          ],
          "name": "stdout"
        }
      ]
    },
    {
      "cell_type": "code",
      "metadata": {
        "colab": {
          "base_uri": "https://localhost:8080/"
        },
        "id": "Uq2ut6F_BR6i",
        "outputId": "545939ae-c220-4d6b-8e04-dbe5a21215f2"
      },
      "source": [
        "a=set(('ece','cse','ise','mech'))\r\n",
        "deleted=a.pop()\r\n",
        "print(deleted)\r\n",
        "print(a)"
      ],
      "execution_count": 16,
      "outputs": [
        {
          "output_type": "stream",
          "text": [
            "ece\n",
            "{'ise', 'mech', 'cse'}\n"
          ],
          "name": "stdout"
        }
      ]
    },
    {
      "cell_type": "code",
      "metadata": {
        "colab": {
          "base_uri": "https://localhost:8080/"
        },
        "id": "StlIPw_rB2bx",
        "outputId": "23d0cfb2-376e-4b78-eb41-440b66a75335"
      },
      "source": [
        "thisset={\"apple\",\"banana\",\"cherry\"}\r\n",
        "thisset.clear()\r\n",
        "print(thisset)\r\n",
        "print(len(thisset))"
      ],
      "execution_count": 19,
      "outputs": [
        {
          "output_type": "stream",
          "text": [
            "set()\n",
            "0\n"
          ],
          "name": "stdout"
        }
      ]
    },
    {
      "cell_type": "code",
      "metadata": {
        "colab": {
          "base_uri": "https://localhost:8080/",
          "height": 129
        },
        "id": "-SdfgpfqCYhD",
        "outputId": "57f8a966-a25e-47a7-a256-efcb6c098ed0"
      },
      "source": [
        "thisset={apple\",\"banana\",\"cherry\"}\r\n",
        "del thisset\r\n",
        "print(\"thisset\")"
      ],
      "execution_count": 22,
      "outputs": [
        {
          "output_type": "error",
          "ename": "SyntaxError",
          "evalue": "ignored",
          "traceback": [
            "\u001b[0;36m  File \u001b[0;32m\"<ipython-input-22-0ae541ed901d>\"\u001b[0;36m, line \u001b[0;32m1\u001b[0m\n\u001b[0;31m    thisset={apple\",\"banana\",\"cherry\"}\u001b[0m\n\u001b[0m                    ^\u001b[0m\n\u001b[0;31mSyntaxError\u001b[0m\u001b[0;31m:\u001b[0m invalid syntax\n"
          ]
        }
      ]
    },
    {
      "cell_type": "code",
      "metadata": {
        "colab": {
          "base_uri": "https://localhost:8080/"
        },
        "id": "s85lHWgkC3_w",
        "outputId": "87c835eb-6718-4596-86d1-7c9602fd550d"
      },
      "source": [
        "set1={\"a\",\"b\",\"c\"}\r\n",
        "set2={\"1\",\"2\",\"3\"}\r\n",
        "set3=set1.union(set2)\r\n",
        "print(set3)"
      ],
      "execution_count": 26,
      "outputs": [
        {
          "output_type": "stream",
          "text": [
            "{'2', 'c', 'a', 'b', '3', '1'}\n"
          ],
          "name": "stdout"
        }
      ]
    },
    {
      "cell_type": "code",
      "metadata": {
        "colab": {
          "base_uri": "https://localhost:8080/"
        },
        "id": "m46DOZlLDnTz",
        "outputId": "09c20937-11f8-44f1-ab56-6d9d39be54e1"
      },
      "source": [
        "thisset={\"apple\",\"banana\",\"cherry\"}\r\n",
        "tropical={\"pineapple\",\"mango\",\"papaya\"}\r\n",
        "thisset.update(tropical)\r\n",
        "print(thisset)"
      ],
      "execution_count": 28,
      "outputs": [
        {
          "output_type": "stream",
          "text": [
            "{'mango', 'pineapple', 'cherry', 'papaya', 'banana', 'apple'}\n"
          ],
          "name": "stdout"
        }
      ]
    },
    {
      "cell_type": "code",
      "metadata": {
        "colab": {
          "base_uri": "https://localhost:8080/"
        },
        "id": "gsTARhNXEMKR",
        "outputId": "bb0fe0fd-b667-4632-b657-c33d935058e3"
      },
      "source": [
        "a={1,2,3}\r\n",
        "b={1,2,3,4}\r\n",
        "a.update(b)\r\n",
        "print(a)"
      ],
      "execution_count": 30,
      "outputs": [
        {
          "output_type": "stream",
          "text": [
            "{1, 2, 3, 4}\n"
          ],
          "name": "stdout"
        }
      ]
    },
    {
      "cell_type": "code",
      "metadata": {
        "colab": {
          "base_uri": "https://localhost:8080/"
        },
        "id": "ZPBZqS-sEy4q",
        "outputId": "6837d6fb-b57f-453f-9d12-b755d1760a2b"
      },
      "source": [
        "a=[1,2,3,4,1,2]\r\n",
        "s=set(a)\r\n",
        "print(type(s))\r\n",
        "print(s)"
      ],
      "execution_count": 32,
      "outputs": [
        {
          "output_type": "stream",
          "text": [
            "<class 'set'>\n",
            "{1, 2, 3, 4}\n"
          ],
          "name": "stdout"
        }
      ]
    },
    {
      "cell_type": "code",
      "metadata": {
        "colab": {
          "base_uri": "https://localhost:8080/"
        },
        "id": "wlvcoxCBFVk_",
        "outputId": "284a017c-9e9f-48b1-fb3c-42c56b351a9a"
      },
      "source": [
        "fruits={\"apple\",\"banana\",\"cherry\"}\r\n",
        "fruits.add(\"orange\")\r\n",
        "print(fruits)"
      ],
      "execution_count": 33,
      "outputs": [
        {
          "output_type": "stream",
          "text": [
            "{'banana', 'orange', 'cherry', 'apple'}\n"
          ],
          "name": "stdout"
        }
      ]
    },
    {
      "cell_type": "code",
      "metadata": {
        "colab": {
          "base_uri": "https://localhost:8080/"
        },
        "id": "PH-YSf9iF41f",
        "outputId": "3c701161-985f-4836-dfde-edc8bf9803b0"
      },
      "source": [
        "fruits={\"apple\",\"banana\",\"cherry\"}\r\n",
        "more_fruits=[\"orange\",\"mango\",\"grapes\"]\r\n",
        "fruits=fruits.union(more_fruits)\r\n",
        "print(fruits)"
      ],
      "execution_count": 38,
      "outputs": [
        {
          "output_type": "stream",
          "text": [
            "{'cherry', 'grapes', 'apple', 'mango', 'banana', 'orange'}\n"
          ],
          "name": "stdout"
        }
      ]
    },
    {
      "cell_type": "code",
      "metadata": {
        "colab": {
          "base_uri": "https://localhost:8080/"
        },
        "id": "DflAHQ9XG3GI",
        "outputId": "33204a51-1994-4f45-942a-0f9eff16c521"
      },
      "source": [
        "fruits={\"apple\",\"banana\",\"cherry\"}\r\n",
        "fruits.discard(\"banana\")\r\n",
        "print(fruits)"
      ],
      "execution_count": 41,
      "outputs": [
        {
          "output_type": "stream",
          "text": [
            "{'cherry', 'apple'}\n"
          ],
          "name": "stdout"
        }
      ]
    },
    {
      "cell_type": "code",
      "metadata": {
        "colab": {
          "base_uri": "https://localhost:8080/"
        },
        "id": "HBCae-kjHRhY",
        "outputId": "2002ce97-4768-4362-ca98-06e6b6d98c17"
      },
      "source": [
        "fruits={\"apple\",\"banana\",\"cherry\"}\r\n",
        "fruits.remove(\"banana\")\r\n",
        "print(fruits)"
      ],
      "execution_count": 42,
      "outputs": [
        {
          "output_type": "stream",
          "text": [
            "{'cherry', 'apple'}\n"
          ],
          "name": "stdout"
        }
      ]
    },
    {
      "cell_type": "code",
      "metadata": {
        "colab": {
          "base_uri": "https://localhost:8080/"
        },
        "id": "MMbag9XkHU0_",
        "outputId": "d2a807b9-bfd3-4469-886b-9457b6ccdd13"
      },
      "source": [
        "a=set([1,2,1,2,3])\r\n",
        "print(a)\r\n",
        "print(len(a))"
      ],
      "execution_count": 50,
      "outputs": [
        {
          "output_type": "stream",
          "text": [
            "{1, 2, 3}\n",
            "3\n"
          ],
          "name": "stdout"
        }
      ]
    },
    {
      "cell_type": "code",
      "metadata": {
        "colab": {
          "base_uri": "https://localhost:8080/"
        },
        "id": "pIorm_iBI5Yv",
        "outputId": "45e64908-b0db-4eb8-f4a2-9410e3abeae4"
      },
      "source": [
        "today={\r\n",
        "    \"day\":\"thursday\",\r\n",
        "    \"date\": \"7-1-2021\",\r\n",
        "    \"month\": \"january\"\r\n",
        "}\r\n",
        "print(today)"
      ],
      "execution_count": 57,
      "outputs": [
        {
          "output_type": "stream",
          "text": [
            "{'day': 'thursday', 'date': '7-1-2021', 'month': 'january'}\n"
          ],
          "name": "stdout"
        }
      ]
    },
    {
      "cell_type": "code",
      "metadata": {
        "colab": {
          "base_uri": "https://localhost:8080/"
        },
        "id": "_OugXvw0KFj_",
        "outputId": "ee555701-ceaf-4f8b-8b5c-7ba666813db2"
      },
      "source": [
        "help(tuple)"
      ],
      "execution_count": 63,
      "outputs": [
        {
          "output_type": "stream",
          "text": [
            "Help on class tuple in module builtins:\n",
            "\n",
            "class tuple(object)\n",
            " |  tuple() -> empty tuple\n",
            " |  tuple(iterable) -> tuple initialized from iterable's items\n",
            " |  \n",
            " |  If the argument is a tuple, the return value is the same object.\n",
            " |  \n",
            " |  Methods defined here:\n",
            " |  \n",
            " |  __add__(self, value, /)\n",
            " |      Return self+value.\n",
            " |  \n",
            " |  __contains__(self, key, /)\n",
            " |      Return key in self.\n",
            " |  \n",
            " |  __eq__(self, value, /)\n",
            " |      Return self==value.\n",
            " |  \n",
            " |  __ge__(self, value, /)\n",
            " |      Return self>=value.\n",
            " |  \n",
            " |  __getattribute__(self, name, /)\n",
            " |      Return getattr(self, name).\n",
            " |  \n",
            " |  __getitem__(self, key, /)\n",
            " |      Return self[key].\n",
            " |  \n",
            " |  __getnewargs__(...)\n",
            " |  \n",
            " |  __gt__(self, value, /)\n",
            " |      Return self>value.\n",
            " |  \n",
            " |  __hash__(self, /)\n",
            " |      Return hash(self).\n",
            " |  \n",
            " |  __iter__(self, /)\n",
            " |      Implement iter(self).\n",
            " |  \n",
            " |  __le__(self, value, /)\n",
            " |      Return self<=value.\n",
            " |  \n",
            " |  __len__(self, /)\n",
            " |      Return len(self).\n",
            " |  \n",
            " |  __lt__(self, value, /)\n",
            " |      Return self<value.\n",
            " |  \n",
            " |  __mul__(self, value, /)\n",
            " |      Return self*value.\n",
            " |  \n",
            " |  __ne__(self, value, /)\n",
            " |      Return self!=value.\n",
            " |  \n",
            " |  __new__(*args, **kwargs) from builtins.type\n",
            " |      Create and return a new object.  See help(type) for accurate signature.\n",
            " |  \n",
            " |  __repr__(self, /)\n",
            " |      Return repr(self).\n",
            " |  \n",
            " |  __rmul__(self, value, /)\n",
            " |      Return value*self.\n",
            " |  \n",
            " |  count(...)\n",
            " |      T.count(value) -> integer -- return number of occurrences of value\n",
            " |  \n",
            " |  index(...)\n",
            " |      T.index(value, [start, [stop]]) -> integer -- return first index of value.\n",
            " |      Raises ValueError if the value is not present.\n",
            "\n"
          ],
          "name": "stdout"
        }
      ]
    },
    {
      "cell_type": "code",
      "metadata": {
        "colab": {
          "base_uri": "https://localhost:8080/"
        },
        "id": "XmBZabCOKygk",
        "outputId": "7d4c7119-a1b9-4c2f-8cc7-c5e590882781"
      },
      "source": [
        "help(list)"
      ],
      "execution_count": 64,
      "outputs": [
        {
          "output_type": "stream",
          "text": [
            "Help on class list in module builtins:\n",
            "\n",
            "class list(object)\n",
            " |  list() -> new empty list\n",
            " |  list(iterable) -> new list initialized from iterable's items\n",
            " |  \n",
            " |  Methods defined here:\n",
            " |  \n",
            " |  __add__(self, value, /)\n",
            " |      Return self+value.\n",
            " |  \n",
            " |  __contains__(self, key, /)\n",
            " |      Return key in self.\n",
            " |  \n",
            " |  __delitem__(self, key, /)\n",
            " |      Delete self[key].\n",
            " |  \n",
            " |  __eq__(self, value, /)\n",
            " |      Return self==value.\n",
            " |  \n",
            " |  __ge__(self, value, /)\n",
            " |      Return self>=value.\n",
            " |  \n",
            " |  __getattribute__(self, name, /)\n",
            " |      Return getattr(self, name).\n",
            " |  \n",
            " |  __getitem__(...)\n",
            " |      x.__getitem__(y) <==> x[y]\n",
            " |  \n",
            " |  __gt__(self, value, /)\n",
            " |      Return self>value.\n",
            " |  \n",
            " |  __iadd__(self, value, /)\n",
            " |      Implement self+=value.\n",
            " |  \n",
            " |  __imul__(self, value, /)\n",
            " |      Implement self*=value.\n",
            " |  \n",
            " |  __init__(self, /, *args, **kwargs)\n",
            " |      Initialize self.  See help(type(self)) for accurate signature.\n",
            " |  \n",
            " |  __iter__(self, /)\n",
            " |      Implement iter(self).\n",
            " |  \n",
            " |  __le__(self, value, /)\n",
            " |      Return self<=value.\n",
            " |  \n",
            " |  __len__(self, /)\n",
            " |      Return len(self).\n",
            " |  \n",
            " |  __lt__(self, value, /)\n",
            " |      Return self<value.\n",
            " |  \n",
            " |  __mul__(self, value, /)\n",
            " |      Return self*value.\n",
            " |  \n",
            " |  __ne__(self, value, /)\n",
            " |      Return self!=value.\n",
            " |  \n",
            " |  __new__(*args, **kwargs) from builtins.type\n",
            " |      Create and return a new object.  See help(type) for accurate signature.\n",
            " |  \n",
            " |  __repr__(self, /)\n",
            " |      Return repr(self).\n",
            " |  \n",
            " |  __reversed__(...)\n",
            " |      L.__reversed__() -- return a reverse iterator over the list\n",
            " |  \n",
            " |  __rmul__(self, value, /)\n",
            " |      Return value*self.\n",
            " |  \n",
            " |  __setitem__(self, key, value, /)\n",
            " |      Set self[key] to value.\n",
            " |  \n",
            " |  __sizeof__(...)\n",
            " |      L.__sizeof__() -- size of L in memory, in bytes\n",
            " |  \n",
            " |  append(...)\n",
            " |      L.append(object) -> None -- append object to end\n",
            " |  \n",
            " |  clear(...)\n",
            " |      L.clear() -> None -- remove all items from L\n",
            " |  \n",
            " |  copy(...)\n",
            " |      L.copy() -> list -- a shallow copy of L\n",
            " |  \n",
            " |  count(...)\n",
            " |      L.count(value) -> integer -- return number of occurrences of value\n",
            " |  \n",
            " |  extend(...)\n",
            " |      L.extend(iterable) -> None -- extend list by appending elements from the iterable\n",
            " |  \n",
            " |  index(...)\n",
            " |      L.index(value, [start, [stop]]) -> integer -- return first index of value.\n",
            " |      Raises ValueError if the value is not present.\n",
            " |  \n",
            " |  insert(...)\n",
            " |      L.insert(index, object) -- insert object before index\n",
            " |  \n",
            " |  pop(...)\n",
            " |      L.pop([index]) -> item -- remove and return item at index (default last).\n",
            " |      Raises IndexError if list is empty or index is out of range.\n",
            " |  \n",
            " |  remove(...)\n",
            " |      L.remove(value) -> None -- remove first occurrence of value.\n",
            " |      Raises ValueError if the value is not present.\n",
            " |  \n",
            " |  reverse(...)\n",
            " |      L.reverse() -- reverse *IN PLACE*\n",
            " |  \n",
            " |  sort(...)\n",
            " |      L.sort(key=None, reverse=False) -> None -- stable sort *IN PLACE*\n",
            " |  \n",
            " |  ----------------------------------------------------------------------\n",
            " |  Data and other attributes defined here:\n",
            " |  \n",
            " |  __hash__ = None\n",
            "\n"
          ],
          "name": "stdout"
        }
      ]
    },
    {
      "cell_type": "code",
      "metadata": {
        "colab": {
          "base_uri": "https://localhost:8080/"
        },
        "id": "V3cGOs6VK6F0",
        "outputId": "b5340338-4096-4af5-c1e2-6b09311e5299"
      },
      "source": [
        "today={\r\n",
        "    \"day\":\"thursday\",\r\n",
        "    \"date\": \"7-1-2021\",\r\n",
        "    \"month\": \"january\"\r\n",
        "}\r\n",
        "print(len(today))"
      ],
      "execution_count": 66,
      "outputs": [
        {
          "output_type": "stream",
          "text": [
            "3\n"
          ],
          "name": "stdout"
        }
      ]
    },
    {
      "cell_type": "code",
      "metadata": {
        "colab": {
          "base_uri": "https://localhost:8080/"
        },
        "id": "uwvckYX0LjHM",
        "outputId": "cb6374c6-282d-4561-c4be-c8cc2eda6b5d"
      },
      "source": [
        "today={\r\n",
        "    \"day\":\"thursday\",\r\n",
        "    \"date\": \"7-1-2021\",\r\n",
        "    \"month\": \"january\"\r\n",
        "}\r\n",
        "x=today[\"month\"]\r\n",
        "print(x)\r\n",
        "print(len(x))"
      ],
      "execution_count": 71,
      "outputs": [
        {
          "output_type": "stream",
          "text": [
            "january\n",
            "7\n"
          ],
          "name": "stdout"
        }
      ]
    },
    {
      "cell_type": "code",
      "metadata": {
        "colab": {
          "base_uri": "https://localhost:8080/"
        },
        "id": "3IoaN2frMLxd",
        "outputId": "6f8695fd-359f-4785-a659-c38fa3325b35"
      },
      "source": [
        "today={\r\n",
        "    \"day\":\"thursday\",\r\n",
        "    \"date\": \"7-1-2021\",\r\n",
        "    \"month\": \"january\"\r\n",
        "}\r\n",
        "x=today.keys()\r\n",
        "print(x)\r\n",
        "print(today.values())"
      ],
      "execution_count": 74,
      "outputs": [
        {
          "output_type": "stream",
          "text": [
            "dict_keys(['day', 'date', 'month'])\n",
            "dict_values(['thursday', '7-1-2021', 'january'])\n"
          ],
          "name": "stdout"
        }
      ]
    },
    {
      "cell_type": "code",
      "metadata": {
        "colab": {
          "base_uri": "https://localhost:8080/"
        },
        "id": "cs7pKYqENKPb",
        "outputId": "c579e4a1-7de7-415a-b3ab-8f8ab13ffe1d"
      },
      "source": [
        "today={\r\n",
        "    \"day\":\"thursday\",\r\n",
        "    \"date\": \"7-1-2021\",\r\n",
        "    \"month\": \"january\"\r\n",
        "}\r\n",
        "today[\"month\"]=\"march\"\r\n",
        "print(today)"
      ],
      "execution_count": 76,
      "outputs": [
        {
          "output_type": "stream",
          "text": [
            "{'day': 'thursday', 'date': '7-1-2021', 'month': 'march'}\n"
          ],
          "name": "stdout"
        }
      ]
    },
    {
      "cell_type": "code",
      "metadata": {
        "id": "nX26ppzsN7ij"
      },
      "source": [
        ""
      ],
      "execution_count": null,
      "outputs": []
    },
    {
      "cell_type": "code",
      "metadata": {
        "colab": {
          "base_uri": "https://localhost:8080/"
        },
        "id": "EniERiS8OQie",
        "outputId": "657518b0-11f2-4c61-f99c-304520d28332"
      },
      "source": [
        "today={\r\n",
        "    \"day\":\"thursday\",\r\n",
        "    \"date\": \"7-1-2021\",\r\n",
        "    \"month\": \"january\"\r\n",
        "}\r\n",
        "today[\"colour\"]=\"blue\"\r\n",
        "print(today)"
      ],
      "execution_count": 77,
      "outputs": [
        {
          "output_type": "stream",
          "text": [
            "{'day': 'thursday', 'date': '7-1-2021', 'month': 'january', 'colour': 'blue'}\n"
          ],
          "name": "stdout"
        }
      ]
    },
    {
      "cell_type": "code",
      "metadata": {
        "colab": {
          "base_uri": "https://localhost:8080/"
        },
        "id": "soHLsJgrO5Dg",
        "outputId": "a51a9918-3408-48f3-814b-e5cc11ff6887"
      },
      "source": [
        "today={\r\n",
        "    \"day\":\"thursday\",\r\n",
        "    \"date\": \"7-1-2021\",\r\n",
        "    \"month\": \"january\"\r\n",
        "}\r\n",
        "today.update({\"year\":2030})\r\n",
        "print(today)"
      ],
      "execution_count": 80,
      "outputs": [
        {
          "output_type": "stream",
          "text": [
            "{'day': 'thursday', 'date': '7-1-2021', 'month': 'january', 'year': 2030}\n"
          ],
          "name": "stdout"
        }
      ]
    },
    {
      "cell_type": "code",
      "metadata": {
        "colab": {
          "base_uri": "https://localhost:8080/"
        },
        "id": "Jr2mOlMxPNL5",
        "outputId": "cf88bb95-8813-44d2-ec1f-ab02f8bdb5a5"
      },
      "source": [
        "today={\r\n",
        "    \"day\":\"thursday\",\r\n",
        "    \"date\": \"7-1-2021\",\r\n",
        "    \"month\": \"january\"\r\n",
        "}\r\n",
        "today.pop(\"date\")\r\n",
        "print(today)"
      ],
      "execution_count": 81,
      "outputs": [
        {
          "output_type": "stream",
          "text": [
            "{'day': 'thursday', 'month': 'january'}\n"
          ],
          "name": "stdout"
        }
      ]
    },
    {
      "cell_type": "code",
      "metadata": {
        "colab": {
          "base_uri": "https://localhost:8080/"
        },
        "id": "SYyA6cXfPa8z",
        "outputId": "9fa67466-4a7f-4373-aa15-91a60d7c9851"
      },
      "source": [
        "today={\r\n",
        "    \"day\":\"thursday\",\r\n",
        "    \"date\": \"7-1-2021\",\r\n",
        "    \"month\": \"january\"\r\n",
        "}\r\n",
        "today.popitem()\r\n",
        "print(today)"
      ],
      "execution_count": 85,
      "outputs": [
        {
          "output_type": "stream",
          "text": [
            "{'day': 'thursday', 'date': '7-1-2021'}\n"
          ],
          "name": "stdout"
        }
      ]
    },
    {
      "cell_type": "code",
      "metadata": {
        "colab": {
          "base_uri": "https://localhost:8080/"
        },
        "id": "v_tuRUKqP7Ne",
        "outputId": "cc013f89-3e0a-44c6-973a-60e7c30ea20f"
      },
      "source": [
        "today={\r\n",
        "    \"day\":\"thursday\",\r\n",
        "    \"date\": \"7-1-2021\",\r\n",
        "    \"month\": \"january\"\r\n",
        "}\r\n",
        "del today[\"date\"]\r\n",
        "print(today)"
      ],
      "execution_count": 88,
      "outputs": [
        {
          "output_type": "stream",
          "text": [
            "{'day': 'thursday', 'month': 'january'}\n"
          ],
          "name": "stdout"
        }
      ]
    },
    {
      "cell_type": "code",
      "metadata": {
        "colab": {
          "base_uri": "https://localhost:8080/"
        },
        "id": "WXGvFuHEQZwp",
        "outputId": "2bdeae20-35f4-41ee-d053-ed1c17a4f235"
      },
      "source": [
        "today={\r\n",
        "    \"day\":\"thursday\",\r\n",
        "    \"date\": \"7-1-2021\",\r\n",
        "    \"month\": \"january\"\r\n",
        "}\r\n",
        "today.clear()\r\n",
        "print(today)"
      ],
      "execution_count": 89,
      "outputs": [
        {
          "output_type": "stream",
          "text": [
            "{}\n"
          ],
          "name": "stdout"
        }
      ]
    },
    {
      "cell_type": "code",
      "metadata": {
        "colab": {
          "base_uri": "https://localhost:8080/"
        },
        "id": "mSjuUnNHSt7Y",
        "outputId": "9f624f2e-7143-4864-9d30-c8aa30bd419a"
      },
      "source": [
        "a=33\r\n",
        "b=300\r\n",
        "if b>a:\r\n",
        "  print(\"b is greater than a\")"
      ],
      "execution_count": 94,
      "outputs": [
        {
          "output_type": "stream",
          "text": [
            "b is greater than a\n"
          ],
          "name": "stdout"
        }
      ]
    },
    {
      "cell_type": "code",
      "metadata": {
        "colab": {
          "base_uri": "https://localhost:8080/"
        },
        "id": "KE8ndjtRZ06_",
        "outputId": "693cf789-8e06-40be-a8b6-e68f6d868df6"
      },
      "source": [
        "a,b=[int(input(\"enter the value\")),int(input(\"enter the value\"))]\r\n",
        "if b>a:\r\n",
        "  print(\"b is greater than a\")\r\n",
        "elif a==b:\r\n",
        "  print(\"a is equal b\")\r\n",
        "else:\r\n",
        "  print(\"a is greater than b\")"
      ],
      "execution_count": 102,
      "outputs": [
        {
          "output_type": "stream",
          "text": [
            "enter the value58\n",
            "enter the value89\n",
            "b is greater than a\n"
          ],
          "name": "stdout"
        }
      ]
    },
    {
      "cell_type": "markdown",
      "metadata": {
        "id": "5EK1xtV2bZ_t"
      },
      "source": [
        "# Exercise 1"
      ]
    },
    {
      "cell_type": "code",
      "metadata": {
        "colab": {
          "base_uri": "https://localhost:8080/"
        },
        "id": "GLDAectUbZXl",
        "outputId": "048cb26a-c212-4f37-8079-ebba2753139c"
      },
      "source": [
        "a,b,c=[int(input(\"enter the value\")),int(input(\"enter the value\")),int(input(\"enter the value\"))]\r\n",
        "if a>b:\r\n",
        "  if a>c:\r\n",
        "   print(\"a is greater\")\r\n",
        "  else:\r\n",
        "    print(\"c is greater\")\r\n",
        "elif b>c:\r\n",
        "  print(\"b is greater\")\r\n",
        "else:\r\n",
        "  print(\"c is greater\")\r\n"
      ],
      "execution_count": 111,
      "outputs": [
        {
          "output_type": "stream",
          "text": [
            "enter the value34\n",
            "enter the value689\n",
            "enter the value129\n",
            "b is greater\n"
          ],
          "name": "stdout"
        }
      ]
    },
    {
      "cell_type": "code",
      "metadata": {
        "colab": {
          "base_uri": "https://localhost:8080/"
        },
        "id": "8bfDXtXtfGqX",
        "outputId": "33f286d6-9abf-4789-d227-93394402dd85"
      },
      "source": [
        "i=1\r\n",
        "while i<9:\r\n",
        "  print(i)\r\n",
        "  i+=1"
      ],
      "execution_count": 113,
      "outputs": [
        {
          "output_type": "stream",
          "text": [
            "1\n",
            "2\n",
            "3\n",
            "4\n",
            "5\n",
            "6\n",
            "7\n",
            "8\n"
          ],
          "name": "stdout"
        }
      ]
    },
    {
      "cell_type": "code",
      "metadata": {
        "colab": {
          "base_uri": "https://localhost:8080/"
        },
        "id": "43-yzm-cfzDB",
        "outputId": "691ca9ea-8e6e-4683-db0a-1ab9e1f8531d"
      },
      "source": [
        "i=1\r\n",
        "while i<6:\r\n",
        "  i+=1\r\n",
        "  if i==3:\r\n",
        "    continue\r\n",
        "  print(i)"
      ],
      "execution_count": 117,
      "outputs": [
        {
          "output_type": "stream",
          "text": [
            "2\n",
            "4\n",
            "5\n",
            "6\n"
          ],
          "name": "stdout"
        }
      ]
    },
    {
      "cell_type": "code",
      "metadata": {
        "id": "bNe8uA_rg72B"
      },
      "source": [
        ""
      ],
      "execution_count": null,
      "outputs": []
    },
    {
      "cell_type": "markdown",
      "metadata": {
        "id": "taKS6ID6g8cb"
      },
      "source": [
        "# Exercise 2"
      ]
    },
    {
      "cell_type": "code",
      "metadata": {
        "colab": {
          "base_uri": "https://localhost:8080/"
        },
        "id": "kEzab9SNhACv",
        "outputId": "6ed9120b-0389-475f-9670-0a0b0f04e4d3"
      },
      "source": [
        "x=int(input(\"enter\"))\r\n",
        "sum=0\r\n",
        "i=0\r\n",
        "while i<=x:\r\n",
        "  sum=sum+i\r\n",
        "  i+=1\r\n",
        "print(sum)"
      ],
      "execution_count": 125,
      "outputs": [
        {
          "output_type": "stream",
          "text": [
            "enter6\n",
            "21\n"
          ],
          "name": "stdout"
        }
      ]
    },
    {
      "cell_type": "code",
      "metadata": {
        "colab": {
          "base_uri": "https://localhost:8080/"
        },
        "id": "jCSUEYxFkK6Q",
        "outputId": "15896f66-1ee9-4635-8f3d-ab4ade48e1fe"
      },
      "source": [
        "x=int(input(\"enter\"))\r\n",
        "sum=0\r\n",
        "while x:\r\n",
        "  sum+=x\r\n",
        "  x-=1\r\n",
        "print(sum)"
      ],
      "execution_count": 128,
      "outputs": [
        {
          "output_type": "stream",
          "text": [
            "enter5\n",
            "15\n"
          ],
          "name": "stdout"
        }
      ]
    },
    {
      "cell_type": "code",
      "metadata": {
        "colab": {
          "base_uri": "https://localhost:8080/"
        },
        "id": "QyOFqkMMlNsC",
        "outputId": "6a2f5901-bdfb-4cdb-ff4d-d5e7c5bb6fcd"
      },
      "source": [
        "list=[\"apple\",\"banana\",\"cherry\"]\r\n",
        "for i in list:\r\n",
        "  print(i)"
      ],
      "execution_count": 132,
      "outputs": [
        {
          "output_type": "stream",
          "text": [
            "apple\n",
            "banana\n",
            "cherry\n"
          ],
          "name": "stdout"
        }
      ]
    },
    {
      "cell_type": "code",
      "metadata": {
        "colab": {
          "base_uri": "https://localhost:8080/"
        },
        "id": "i1kJ-nd-mHNN",
        "outputId": "aa3b67af-9a60-4887-961e-57515f8d3198"
      },
      "source": [
        "list=[\"apple\",\"banana\",\"cherry\"]\r\n",
        "for i in \"banana\":\r\n",
        "  print(i)"
      ],
      "execution_count": 133,
      "outputs": [
        {
          "output_type": "stream",
          "text": [
            "b\n",
            "a\n",
            "n\n",
            "a\n",
            "n\n",
            "a\n"
          ],
          "name": "stdout"
        }
      ]
    },
    {
      "cell_type": "code",
      "metadata": {
        "id": "vMOuEROvmgGE"
      },
      "source": [
        "list=[\"apple\",\"banana\",\"cherry\"]\r\n",
        "for i in list:\r\n",
        "  print(i)"
      ],
      "execution_count": null,
      "outputs": []
    },
    {
      "cell_type": "code",
      "metadata": {
        "colab": {
          "base_uri": "https://localhost:8080/"
        },
        "id": "574FAYE6mwON",
        "outputId": "04b96dfd-7cb5-4e26-b87f-debaca9ddb50"
      },
      "source": [
        "for x in range(5,30,5):\r\n",
        "  print(x)"
      ],
      "execution_count": 140,
      "outputs": [
        {
          "output_type": "stream",
          "text": [
            "5\n",
            "10\n",
            "15\n",
            "20\n",
            "25\n"
          ],
          "name": "stdout"
        }
      ]
    },
    {
      "cell_type": "code",
      "metadata": {
        "colab": {
          "base_uri": "https://localhost:8080/"
        },
        "id": "fu1OXhfyn4N_",
        "outputId": "54f64bb7-a1e0-413f-abfb-5ddfb9e299ed"
      },
      "source": [
        "adj=[\"red\",\"big\",\"tasty\"]\r\n",
        "fruits=[\"apple\",\"banana\",\"cherry\"]\r\n",
        "for x in adj:\r\n",
        "  for y in fruits:\r\n",
        "    print(y,x)"
      ],
      "execution_count": 143,
      "outputs": [
        {
          "output_type": "stream",
          "text": [
            "apple red\n",
            "banana red\n",
            "cherry red\n",
            "apple big\n",
            "banana big\n",
            "cherry big\n",
            "apple tasty\n",
            "banana tasty\n",
            "cherry tasty\n"
          ],
          "name": "stdout"
        }
      ]
    },
    {
      "cell_type": "markdown",
      "metadata": {
        "id": "xX5xxtG4poBN"
      },
      "source": [
        "# Exercise 3"
      ]
    },
    {
      "cell_type": "code",
      "metadata": {
        "colab": {
          "base_uri": "https://localhost:8080/"
        },
        "id": "pA0j8QBfog24",
        "outputId": "86f330a8-01dd-4192-eef4-5bf903746b9b"
      },
      "source": [
        "even=[]\r\n",
        "odd=[]\r\n",
        "n=int(input(\"Enter the number\"))\r\n",
        "for i in range(1,n+1):\r\n",
        "    if (i%2==1):\r\n",
        "      odd.append(i)\r\n",
        "    else:\r\n",
        "        even.append(i)\r\n",
        "print(odd)\r\n",
        "print(even)"
      ],
      "execution_count": 159,
      "outputs": [
        {
          "output_type": "stream",
          "text": [
            "Enter the number12\n",
            "[1, 3, 5, 7, 9, 11]\n",
            "[2, 4, 6, 8, 10, 12]\n"
          ],
          "name": "stdout"
        }
      ]
    },
    {
      "cell_type": "code",
      "metadata": {
        "colab": {
          "base_uri": "https://localhost:8080/"
        },
        "id": "WNt-G7eNvmxl",
        "outputId": "995dfbe3-4aa1-4a90-8ba1-4d52b662266c"
      },
      "source": [
        "even=[]\r\n",
        "odd=[]\r\n",
        "n=int(input(\"Enter the number\"))\r\n",
        "for i in range(1,n+1,2):\r\n",
        "  odd.append(i)\r\n",
        "  even.append(i+1)\r\n",
        "print(odd)\r\n",
        "print(even)"
      ],
      "execution_count": 161,
      "outputs": [
        {
          "output_type": "stream",
          "text": [
            "Enter the number8\n"
          ],
          "name": "stdout"
        }
      ]
    }
  ]
}